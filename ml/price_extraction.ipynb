{
 "cells": [
  {
   "cell_type": "code",
   "execution_count": 1,
   "metadata": {},
   "outputs": [],
   "source": [
    "from database.market import Market\n",
    "from extractor.tiingo_extractor import TiingoExtractor\n",
    "from datetime import datetime\n",
    "from tqdm import tqdm\n",
    "import pandas as pd\n",
    "from time import sleep"
   ]
  },
  {
   "cell_type": "code",
   "execution_count": 2,
   "metadata": {},
   "outputs": [],
   "source": [
    "market = Market()\n",
    "market.connect()\n",
    "sp500 = market.retrieve(\"sp500\")\n",
    "market.disconnect()"
   ]
  },
  {
   "cell_type": "code",
   "execution_count": 3,
   "metadata": {},
   "outputs": [],
   "source": [
    "tickers = sp500[\"Symbol\"]"
   ]
  },
  {
   "cell_type": "code",
   "execution_count": 4,
   "metadata": {},
   "outputs": [],
   "source": [
    "start = \"1994-01-01\"\n",
    "end = datetime.now().strftime(\"%Y-%m-%d\")"
   ]
  },
  {
   "cell_type": "code",
   "execution_count": 7,
   "metadata": {},
   "outputs": [
    {
     "name": "stderr",
     "output_type": "stream",
     "text": [
      " 71%|█████████████████████████████████████████████████▍                    | 356/504 [52:47<15:14,  6.18s/it]"
     ]
    },
    {
     "name": "stdout",
     "output_type": "stream",
     "text": [
      "Expecting value: line 1 column 1 (char 0)\n",
      "'NoneType' object does not support item assignment\n"
     ]
    },
    {
     "name": "stderr",
     "output_type": "stream",
     "text": [
      " 99%|███████████████████████████████████████████████████████████████████▌| 501/504 [1:13:26<00:18,  6.18s/it]"
     ]
    },
    {
     "name": "stdout",
     "output_type": "stream",
     "text": [
      "Expecting value: line 1 column 1 (char 0)\n",
      "'NoneType' object does not support item assignment\n",
      "Expecting value: line 1 column 1 (char 0)\n",
      "'NoneType' object does not support item assignment\n",
      "Expecting value: line 1 column 1 (char 0)\n",
      "'NoneType' object does not support item assignment\n"
     ]
    },
    {
     "name": "stderr",
     "output_type": "stream",
     "text": [
      "100%|████████████████████████████████████████████████████████████████████| 504/504 [1:13:26<00:00,  8.74s/it]"
     ]
    },
    {
     "name": "stdout",
     "output_type": "stream",
     "text": [
      "Expecting value: line 1 column 1 (char 0)\n",
      "'NoneType' object does not support item assignment\n",
      "Expecting value: line 1 column 1 (char 0)\n",
      "'NoneType' object does not support item assignment\n"
     ]
    },
    {
     "name": "stderr",
     "output_type": "stream",
     "text": [
      "\n"
     ]
    }
   ],
   "source": [
    "market.connect()\n",
    "for ticker in tqdm(tickers[1:]):\n",
    "    try:\n",
    "        if \".\" in ticker:\n",
    "            ticker = ticker.replace(\".\",\"-\")\n",
    "        data = TiingoExtractor.extract(ticker,start,end)\n",
    "        data[\"ticker\"] = ticker\n",
    "        market.store(\"prices\",data)\n",
    "        sleep(8)\n",
    "    except Exception as e:\n",
    "        print(str(e))\n",
    "market.disconnect()"
   ]
  }
 ],
 "metadata": {
  "kernelspec": {
   "display_name": "Python 3",
   "language": "python",
   "name": "python3"
  },
  "language_info": {
   "codemirror_mode": {
    "name": "ipython",
    "version": 3
   },
   "file_extension": ".py",
   "mimetype": "text/x-python",
   "name": "python",
   "nbconvert_exporter": "python",
   "pygments_lexer": "ipython3",
   "version": "3.8.0"
  }
 },
 "nbformat": 4,
 "nbformat_minor": 4
}
