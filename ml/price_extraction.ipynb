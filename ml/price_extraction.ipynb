{
 "cells": [
  {
   "cell_type": "code",
   "execution_count": 1,
   "metadata": {},
   "outputs": [],
   "source": [
    "from database.mainstbets import MainStBets\n",
    "from extractor.tiingo_extractor import TiingoExtractor\n",
    "from datetime import datetime, timedelta\n",
    "from tqdm import tqdm\n",
    "import pandas as pd\n",
    "from time import sleep"
   ]
  },
  {
   "cell_type": "code",
   "execution_count": 2,
   "metadata": {},
   "outputs": [],
   "source": [
    "market = MainStBets()\n",
    "market.connect()\n",
    "sp500 = market.retrieve(\"sp500\")\n",
    "market.disconnect()"
   ]
  },
  {
   "cell_type": "code",
   "execution_count": 3,
   "metadata": {},
   "outputs": [],
   "source": [
    "tickers = sp500[\"Symbol\"]"
   ]
  },
  {
   "cell_type": "code",
   "execution_count": 10,
   "metadata": {},
   "outputs": [],
   "source": [
    "start = datetime(datetime.now().year - 6, datetime.now().month,datetime.now().day)\n",
    "# start = (datetime(2021,8,27)- timedelta(days=1)).strftime(\"%Y-%m-%d\")\n",
    "end = datetime(2021,8,27).strftime(\"%Y-%m-%d\")"
   ]
  },
  {
   "cell_type": "code",
   "execution_count": 11,
   "metadata": {},
   "outputs": [
    {
     "name": "stdout",
     "output_type": "stream",
     "text": [
      "2021-08-26 2021-08-27\n"
     ]
    }
   ],
   "source": [
    "print(start,end)"
   ]
  },
  {
   "cell_type": "code",
   "execution_count": 12,
   "metadata": {},
   "outputs": [
    {
     "name": "stderr",
     "output_type": "stream",
     "text": [
      " 12%|█████████▉                                                                      | 63/505 [00:11<01:08,  6.41it/s]"
     ]
    },
    {
     "name": "stdout",
     "output_type": "stream",
     "text": [
      "Expecting value: line 1 column 1 (char 0)\n",
      "'NoneType' object does not support item assignment\n"
     ]
    },
    {
     "name": "stderr",
     "output_type": "stream",
     "text": [
      " 14%|██████████▉                                                                     | 69/505 [00:12<01:11,  6.09it/s]"
     ]
    },
    {
     "name": "stdout",
     "output_type": "stream",
     "text": [
      "Expecting value: line 1 column 1 (char 0)\n",
      "'NoneType' object does not support item assignment\n"
     ]
    },
    {
     "name": "stderr",
     "output_type": "stream",
     "text": [
      " 63%|█████████████████████████████████████████████████▌                             | 317/505 [00:57<00:29,  6.31it/s]"
     ]
    },
    {
     "name": "stdout",
     "output_type": "stream",
     "text": [
      "Expecting value: line 1 column 1 (char 0)\n",
      "'NoneType' object does not support item assignment\n"
     ]
    },
    {
     "name": "stderr",
     "output_type": "stream",
     "text": [
      " 71%|███████████████████████████████████████████████████████▊                       | 357/505 [01:04<00:25,  5.82it/s]"
     ]
    },
    {
     "name": "stdout",
     "output_type": "stream",
     "text": [
      "Expecting value: line 1 column 1 (char 0)\n",
      "'NoneType' object does not support item assignment\n"
     ]
    },
    {
     "name": "stderr",
     "output_type": "stream",
     "text": [
      " 83%|█████████████████████████████████████████████████████████████████▏             | 417/505 [01:14<00:11,  7.78it/s]"
     ]
    },
    {
     "name": "stdout",
     "output_type": "stream",
     "text": [
      "If using all scalar values, you must pass an index\n",
      "'NoneType' object does not support item assignment\n",
      "If using all scalar values, you must pass an index\n",
      "'NoneType' object does not support item assignment\n",
      "If using all scalar values, you must pass an index\n",
      "'NoneType' object does not support item assignment\n"
     ]
    },
    {
     "name": "stderr",
     "output_type": "stream",
     "text": [
      " 83%|█████████████████████████████████████████████████████████████████▋             | 420/505 [01:15<00:09,  8.60it/s]"
     ]
    },
    {
     "name": "stdout",
     "output_type": "stream",
     "text": [
      "If using all scalar values, you must pass an index\n",
      "'NoneType' object does not support item assignment\n",
      "If using all scalar values, you must pass an index\n",
      "'NoneType' object does not support item assignment\n",
      "If using all scalar values, you must pass an index\n",
      "'NoneType' object does not support item assignment\n"
     ]
    },
    {
     "name": "stderr",
     "output_type": "stream",
     "text": [
      " 84%|██████████████████████████████████████████████████████████████████             | 422/505 [01:15<00:10,  7.96it/s]"
     ]
    },
    {
     "name": "stdout",
     "output_type": "stream",
     "text": [
      "If using all scalar values, you must pass an index\n",
      "'NoneType' object does not support item assignment\n",
      "If using all scalar values, you must pass an index\n",
      "'NoneType' object does not support item assignment\n"
     ]
    },
    {
     "name": "stderr",
     "output_type": "stream",
     "text": [
      "\r",
      " 84%|██████████████████████████████████████████████████████████████████▎            | 424/505 [01:15<00:09,  8.25it/s]"
     ]
    },
    {
     "name": "stdout",
     "output_type": "stream",
     "text": [
      "If using all scalar values, you must pass an index\n",
      "'NoneType' object does not support item assignment\n",
      "If using all scalar values, you must pass an index\n",
      "'NoneType' object does not support item assignment\n"
     ]
    },
    {
     "name": "stderr",
     "output_type": "stream",
     "text": [
      "\r",
      " 84%|██████████████████████████████████████████████████████████████████▋            | 426/505 [01:15<00:08,  8.95it/s]"
     ]
    },
    {
     "name": "stdout",
     "output_type": "stream",
     "text": [
      "If using all scalar values, you must pass an index\n",
      "'NoneType' object does not support item assignment\n",
      "If using all scalar values, you must pass an index\n",
      "'NoneType' object does not support item assignment\n"
     ]
    },
    {
     "name": "stderr",
     "output_type": "stream",
     "text": [
      " 85%|███████████████████████████████████████████████████████████████████            | 429/505 [01:16<00:08,  9.47it/s]"
     ]
    },
    {
     "name": "stdout",
     "output_type": "stream",
     "text": [
      "If using all scalar values, you must pass an index\n",
      "'NoneType' object does not support item assignment\n",
      "If using all scalar values, you must pass an index\n",
      "'NoneType' object does not support item assignment\n",
      "If using all scalar values, you must pass an index\n",
      "'NoneType' object does not support item assignment\n"
     ]
    },
    {
     "name": "stderr",
     "output_type": "stream",
     "text": [
      "\r",
      " 85%|███████████████████████████████████████████████████████████████████▍           | 431/505 [01:16<00:07, 10.40it/s]"
     ]
    },
    {
     "name": "stdout",
     "output_type": "stream",
     "text": [
      "If using all scalar values, you must pass an index\n",
      "'NoneType' object does not support item assignment\n",
      "If using all scalar values, you must pass an index\n",
      "'NoneType' object does not support item assignment\n"
     ]
    },
    {
     "name": "stderr",
     "output_type": "stream",
     "text": [
      "\r",
      " 86%|███████████████████████████████████████████████████████████████████▋           | 433/505 [01:16<00:07,  9.78it/s]"
     ]
    },
    {
     "name": "stdout",
     "output_type": "stream",
     "text": [
      "If using all scalar values, you must pass an index\n",
      "'NoneType' object does not support item assignment\n",
      "If using all scalar values, you must pass an index\n",
      "'NoneType' object does not support item assignment\n",
      "If using all scalar values, you must pass an index"
     ]
    },
    {
     "name": "stderr",
     "output_type": "stream",
     "text": [
      " 86%|████████████████████████████████████████████████████████████████████▏          | 436/505 [01:16<00:06, 10.24it/s]"
     ]
    },
    {
     "name": "stdout",
     "output_type": "stream",
     "text": [
      "\n",
      "'NoneType' object does not support item assignment\n",
      "If using all scalar values, you must pass an index\n",
      "'NoneType' object does not support item assignment\n",
      "If using all scalar values, you must pass an index\n",
      "'NoneType' object does not support item assignment\n"
     ]
    },
    {
     "name": "stderr",
     "output_type": "stream",
     "text": [
      "\r",
      " 87%|████████████████████████████████████████████████████████████████████▌          | 438/505 [01:16<00:06, 10.26it/s]"
     ]
    },
    {
     "name": "stdout",
     "output_type": "stream",
     "text": [
      "If using all scalar values, you must pass an index\n",
      "'NoneType' object does not support item assignment\n",
      "If using all scalar values, you must pass an index\n",
      "'NoneType' object does not support item assignment\n",
      "If using all scalar values, you must pass an index"
     ]
    },
    {
     "name": "stderr",
     "output_type": "stream",
     "text": [
      "\r",
      " 87%|████████████████████████████████████████████████████████████████████▊          | 440/505 [01:17<00:06, 10.36it/s]"
     ]
    },
    {
     "name": "stdout",
     "output_type": "stream",
     "text": [
      "\n",
      "'NoneType' object does not support item assignment\n",
      "If using all scalar values, you must pass an index\n",
      "'NoneType' object does not support item assignment\n",
      "If using all scalar values, you must pass an index\n",
      "'NoneType' object does not support item assignment\n"
     ]
    },
    {
     "name": "stderr",
     "output_type": "stream",
     "text": [
      " 88%|█████████████████████████████████████████████████████████████████████▍         | 444/505 [01:17<00:05, 11.05it/s]"
     ]
    },
    {
     "name": "stdout",
     "output_type": "stream",
     "text": [
      "If using all scalar values, you must pass an index\n",
      "'NoneType' object does not support item assignment\n",
      "If using all scalar values, you must pass an index\n",
      "'NoneType' object does not support item assignment\n",
      "If using all scalar values, you must pass an index\n",
      "'NoneType' object does not support item assignment\n"
     ]
    },
    {
     "name": "stderr",
     "output_type": "stream",
     "text": [
      "\r",
      " 88%|█████████████████████████████████████████████████████████████████████▊         | 446/505 [01:17<00:05, 10.32it/s]"
     ]
    },
    {
     "name": "stdout",
     "output_type": "stream",
     "text": [
      "If using all scalar values, you must pass an index\n",
      "'NoneType' object does not support item assignment\n",
      "If using all scalar values, you must pass an index\n",
      "'NoneType' object does not support item assignment\n"
     ]
    },
    {
     "name": "stderr",
     "output_type": "stream",
     "text": [
      "\r",
      " 89%|██████████████████████████████████████████████████████████████████████         | 448/505 [01:17<00:05, 10.80it/s]"
     ]
    },
    {
     "name": "stdout",
     "output_type": "stream",
     "text": [
      "If using all scalar values, you must pass an index\n",
      "'NoneType' object does not support item assignment\n",
      "If using all scalar values, you must pass an index\n",
      "'NoneType' object does not support item assignment\n",
      "If using all scalar values, you must pass an index\n",
      "'NoneType' object does not support item assignment\n"
     ]
    },
    {
     "name": "stderr",
     "output_type": "stream",
     "text": [
      "\r",
      " 89%|██████████████████████████████████████████████████████████████████████▍        | 450/505 [01:18<00:04, 11.03it/s]"
     ]
    },
    {
     "name": "stdout",
     "output_type": "stream",
     "text": [
      "If using all scalar values, you must pass an index\n",
      "'NoneType' object does not support item assignment\n",
      "If using all scalar values, you must pass an index\n",
      "'NoneType' object does not support item assignment\n"
     ]
    },
    {
     "name": "stderr",
     "output_type": "stream",
     "text": [
      " 90%|███████████████████████████████████████████████████████████████████████        | 454/505 [01:18<00:05,  9.98it/s]"
     ]
    },
    {
     "name": "stdout",
     "output_type": "stream",
     "text": [
      "If using all scalar values, you must pass an index\n",
      "'NoneType' object does not support item assignment\n",
      "If using all scalar values, you must pass an index\n",
      "'NoneType' object does not support item assignment\n",
      "If using all scalar values, you must pass an index\n",
      "'NoneType' object does not support item assignment\n"
     ]
    },
    {
     "name": "stderr",
     "output_type": "stream",
     "text": [
      "\r",
      " 90%|███████████████████████████████████████████████████████████████████████▎       | 456/505 [01:18<00:04, 10.08it/s]"
     ]
    },
    {
     "name": "stdout",
     "output_type": "stream",
     "text": [
      "If using all scalar values, you must pass an index\n",
      "'NoneType' object does not support item assignment\n",
      "If using all scalar values, you must pass an index\n",
      "'NoneType' object does not support item assignment\n"
     ]
    },
    {
     "name": "stderr",
     "output_type": "stream",
     "text": [
      "\r",
      " 91%|███████████████████████████████████████████████████████████████████████▋       | 458/505 [01:18<00:04,  9.64it/s]"
     ]
    },
    {
     "name": "stdout",
     "output_type": "stream",
     "text": [
      "If using all scalar values, you must pass an index\n",
      "'NoneType' object does not support item assignment\n",
      "If using all scalar values, you must pass an index\n",
      "'NoneType' object does not support item assignment\n"
     ]
    },
    {
     "name": "stderr",
     "output_type": "stream",
     "text": [
      " 91%|████████████████████████████████████████████████████████████████████████       | 461/505 [01:19<00:04, 10.07it/s]"
     ]
    },
    {
     "name": "stdout",
     "output_type": "stream",
     "text": [
      "If using all scalar values, you must pass an index\n",
      "'NoneType' object does not support item assignment\n",
      "If using all scalar values, you must pass an index\n",
      "'NoneType' object does not support item assignment\n",
      "If using all scalar values, you must pass an index\n",
      "'NoneType' object does not support item assignment\n"
     ]
    },
    {
     "name": "stderr",
     "output_type": "stream",
     "text": [
      "\r",
      " 92%|████████████████████████████████████████████████████████████████████████▍      | 463/505 [01:19<00:04,  9.75it/s]"
     ]
    },
    {
     "name": "stdout",
     "output_type": "stream",
     "text": [
      "If using all scalar values, you must pass an index\n",
      "'NoneType' object does not support item assignment\n",
      "If using all scalar values, you must pass an index\n",
      "'NoneType' object does not support item assignment\n",
      "If using all scalar values, you must pass an index"
     ]
    },
    {
     "name": "stderr",
     "output_type": "stream",
     "text": [
      " 92%|████████████████████████████████████████████████████████████████████████▉      | 466/505 [01:19<00:03, 10.44it/s]"
     ]
    },
    {
     "name": "stdout",
     "output_type": "stream",
     "text": [
      "\n",
      "'NoneType' object does not support item assignment\n",
      "If using all scalar values, you must pass an index\n",
      "'NoneType' object does not support item assignment\n",
      "If using all scalar values, you must pass an index\n",
      "'NoneType' object does not support item assignment\n"
     ]
    },
    {
     "name": "stderr",
     "output_type": "stream",
     "text": [
      "\r",
      " 93%|█████████████████████████████████████████████████████████████████████████▏     | 468/505 [01:19<00:03, 11.01it/s]"
     ]
    },
    {
     "name": "stdout",
     "output_type": "stream",
     "text": [
      "If using all scalar values, you must pass an index\n",
      "'NoneType' object does not support item assignment\n",
      "If using all scalar values, you must pass an index\n",
      "'NoneType' object does not support item assignment\n",
      "If using all scalar values, you must pass an index\n",
      "'NoneType' object does not support item assignment\n"
     ]
    },
    {
     "name": "stderr",
     "output_type": "stream",
     "text": [
      " 93%|█████████████████████████████████████████████████████████████████████████▊     | 472/505 [01:20<00:02, 11.79it/s]"
     ]
    },
    {
     "name": "stdout",
     "output_type": "stream",
     "text": [
      "If using all scalar values, you must pass an index\n",
      "'NoneType' object does not support item assignment\n",
      "If using all scalar values, you must pass an index\n",
      "'NoneType' object does not support item assignment\n",
      "If using all scalar values, you must pass an index\n",
      "'NoneType' object does not support item assignment\n"
     ]
    },
    {
     "name": "stderr",
     "output_type": "stream",
     "text": [
      "\r",
      " 94%|██████████████████████████████████████████████████████████████████████████▏    | 474/505 [01:20<00:02, 10.92it/s]"
     ]
    },
    {
     "name": "stdout",
     "output_type": "stream",
     "text": [
      "If using all scalar values, you must pass an index\n",
      "'NoneType' object does not support item assignment\n",
      "If using all scalar values, you must pass an index\n",
      "'NoneType' object does not support item assignment\n",
      "If using all scalar values, you must pass an index\n",
      "'NoneType' object does not support item assignment\n"
     ]
    },
    {
     "name": "stderr",
     "output_type": "stream",
     "text": [
      " 95%|██████████████████████████████████████████████████████████████████████████▊    | 478/505 [01:20<00:02, 11.35it/s]"
     ]
    },
    {
     "name": "stdout",
     "output_type": "stream",
     "text": [
      "If using all scalar values, you must pass an index\n",
      "'NoneType' object does not support item assignment\n",
      "If using all scalar values, you must pass an index\n",
      "'NoneType' object does not support item assignment\n",
      "If using all scalar values, you must pass an index\n",
      "'NoneType' object does not support item assignment\n"
     ]
    },
    {
     "name": "stderr",
     "output_type": "stream",
     "text": [
      "\r",
      " 95%|███████████████████████████████████████████████████████████████████████████    | 480/505 [01:20<00:02, 11.19it/s]"
     ]
    },
    {
     "name": "stdout",
     "output_type": "stream",
     "text": [
      "If using all scalar values, you must pass an index\n",
      "'NoneType' object does not support item assignment\n",
      "If using all scalar values, you must pass an index\n",
      "'NoneType' object does not support item assignment\n",
      "If using all scalar values, you must pass an index\n",
      "'NoneType' object does not support item assignment\n"
     ]
    },
    {
     "name": "stderr",
     "output_type": "stream",
     "text": [
      " 96%|███████████████████████████████████████████████████████████████████████████▋   | 484/505 [01:21<00:01, 11.36it/s]"
     ]
    },
    {
     "name": "stdout",
     "output_type": "stream",
     "text": [
      "If using all scalar values, you must pass an index\n",
      "'NoneType' object does not support item assignment\n",
      "If using all scalar values, you must pass an index\n",
      "'NoneType' object does not support item assignment\n",
      "If using all scalar values, you must pass an index\n",
      "'NoneType' object does not support item assignment\n"
     ]
    },
    {
     "name": "stderr",
     "output_type": "stream",
     "text": [
      "\r",
      " 96%|████████████████████████████████████████████████████████████████████████████   | 486/505 [01:21<00:01, 11.72it/s]"
     ]
    },
    {
     "name": "stdout",
     "output_type": "stream",
     "text": [
      "If using all scalar values, you must pass an index\n",
      "'NoneType' object does not support item assignment\n",
      "If using all scalar values, you must pass an index\n",
      "'NoneType' object does not support item assignment\n",
      "If using all scalar values, you must pass an index\n",
      "'NoneType' object does not support item assignment\n"
     ]
    },
    {
     "name": "stderr",
     "output_type": "stream",
     "text": [
      "\r",
      " 97%|████████████████████████████████████████████████████████████████████████████▎  | 488/505 [01:21<00:01, 11.56it/s]"
     ]
    },
    {
     "name": "stdout",
     "output_type": "stream",
     "text": [
      "If using all scalar values, you must pass an index\n",
      "'NoneType' object does not support item assignment\n",
      "If using all scalar values, you must pass an index\n",
      "'NoneType' object does not support item assignment\n",
      "If using all scalar values, you must pass an index"
     ]
    },
    {
     "name": "stderr",
     "output_type": "stream",
     "text": [
      "\r",
      " 97%|████████████████████████████████████████████████████████████████████████████▋  | 490/505 [01:21<00:01, 11.23it/s]"
     ]
    },
    {
     "name": "stdout",
     "output_type": "stream",
     "text": [
      "\n",
      "'NoneType' object does not support item assignment\n",
      "If using all scalar values, you must pass an index\n",
      "'NoneType' object does not support item assignment\n"
     ]
    },
    {
     "name": "stderr",
     "output_type": "stream",
     "text": [
      "\r",
      " 97%|████████████████████████████████████████████████████████████████████████████▉  | 492/505 [01:22<00:01, 10.59it/s]"
     ]
    },
    {
     "name": "stdout",
     "output_type": "stream",
     "text": [
      "If using all scalar values, you must pass an index\n",
      "'NoneType' object does not support item assignment\n",
      "If using all scalar values, you must pass an index\n",
      "'NoneType' object does not support item assignment\n",
      "If using all scalar values, you must pass an index"
     ]
    },
    {
     "name": "stderr",
     "output_type": "stream",
     "text": [
      "\r",
      " 98%|█████████████████████████████████████████████████████████████████████████████▎ | 494/505 [01:22<00:01, 10.70it/s]"
     ]
    },
    {
     "name": "stdout",
     "output_type": "stream",
     "text": [
      "\n",
      "'NoneType' object does not support item assignment\n",
      "If using all scalar values, you must pass an index\n",
      "'NoneType' object does not support item assignment\n"
     ]
    },
    {
     "name": "stderr",
     "output_type": "stream",
     "text": [
      " 99%|█████████████████████████████████████████████████████████████████████████████▉ | 498/505 [01:22<00:00,  9.99it/s]"
     ]
    },
    {
     "name": "stdout",
     "output_type": "stream",
     "text": [
      "If using all scalar values, you must pass an index\n",
      "'NoneType' object does not support item assignment\n",
      "If using all scalar values, you must pass an index\n",
      "'NoneType' object does not support item assignment\n",
      "If using all scalar values, you must pass an index\n",
      "'NoneType' object does not support item assignment\n"
     ]
    },
    {
     "name": "stderr",
     "output_type": "stream",
     "text": [
      "\r",
      " 99%|██████████████████████████████████████████████████████████████████████████████▏| 500/505 [01:22<00:00, 10.68it/s]"
     ]
    },
    {
     "name": "stdout",
     "output_type": "stream",
     "text": [
      "If using all scalar values, you must pass an index\n",
      "'NoneType' object does not support item assignment\n",
      "If using all scalar values, you must pass an index\n",
      "'NoneType' object does not support item assignment\n",
      "If using all scalar values, you must pass an index\n",
      "'NoneType' object does not support item assignment\n"
     ]
    },
    {
     "name": "stderr",
     "output_type": "stream",
     "text": [
      "100%|██████████████████████████████████████████████████████████████████████████████▊| 504/505 [01:23<00:00, 10.85it/s]"
     ]
    },
    {
     "name": "stdout",
     "output_type": "stream",
     "text": [
      "If using all scalar values, you must pass an index\n",
      "'NoneType' object does not support item assignment\n",
      "If using all scalar values, you must pass an index\n",
      "'NoneType' object does not support item assignment\n",
      "If using all scalar values, you must pass an index\n",
      "'NoneType' object does not support item assignment\n"
     ]
    },
    {
     "name": "stderr",
     "output_type": "stream",
     "text": [
      "\r",
      "100%|███████████████████████████████████████████████████████████████████████████████| 505/505 [01:23<00:00,  6.06it/s]"
     ]
    },
    {
     "name": "stdout",
     "output_type": "stream",
     "text": [
      "If using all scalar values, you must pass an index\n",
      "'NoneType' object does not support item assignment\n"
     ]
    },
    {
     "name": "stderr",
     "output_type": "stream",
     "text": [
      "\n"
     ]
    }
   ],
   "source": [
    "market.connect()\n",
    "for ticker in tqdm(tickers):\n",
    "    try:\n",
    "        if \".\" in ticker:\n",
    "            ticker = ticker.replace(\".\",\"-\")\n",
    "        data = TiingoExtractor.extract(ticker,start,end)\n",
    "        data[\"ticker\"] = ticker\n",
    "        market.store(\"prices\",data)\n",
    "    except Exception as e:\n",
    "        print(str(e))\n",
    "market.disconnect()"
   ]
  }
 ],
 "metadata": {
  "kernelspec": {
   "display_name": "Python 3 (ipykernel)",
   "language": "python",
   "name": "python3"
  },
  "language_info": {
   "codemirror_mode": {
    "name": "ipython",
    "version": 3
   },
   "file_extension": ".py",
   "mimetype": "text/x-python",
   "name": "python",
   "nbconvert_exporter": "python",
   "pygments_lexer": "ipython3",
   "version": "3.9.6"
  }
 },
 "nbformat": 4,
 "nbformat_minor": 4
}
