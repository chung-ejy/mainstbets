{
 "cells": [
  {
   "cell_type": "code",
   "execution_count": 1,
   "metadata": {},
   "outputs": [],
   "source": [
    "from tqdm import tqdm\n",
    "from database.sec import SEC\n",
    "from transformer.sec_transformer import SECTransformer\n",
    "import pandas as pd\n",
    "from datetime import datetime"
   ]
  },
  {
   "cell_type": "code",
   "execution_count": 2,
   "metadata": {},
   "outputs": [],
   "source": [
    "sec = SEC()"
   ]
  },
  {
   "cell_type": "code",
   "execution_count": 3,
   "metadata": {},
   "outputs": [
    {
     "name": "stderr",
     "output_type": "stream",
     "text": [
      "100%|███████████████████████████████████████████████████████████████████████████████████████████████████████████████████████████████████████████████████████████████████████████████████████████████████████████████████| 1/1 [02:38<00:00, 158.53s/it]"
     ]
    },
    {
     "name": "stdout",
     "output_type": "stream",
     "text": [
      "2021 3 [Errno 2] No such file or directory: './sec/2021q3/num.txt'\n",
      "2021 4 [Errno 2] No such file or directory: './sec/2021q4/num.txt'\n"
     ]
    },
    {
     "name": "stderr",
     "output_type": "stream",
     "text": [
      "\n"
     ]
    }
   ],
   "source": [
    "sec.connect()\n",
    "for year in tqdm(range(2021,2022)):\n",
    "    for quarter in range(1,5):\n",
    "        try:\n",
    "            num = SECTransformer.transform(year,quarter,\"num\")\n",
    "            sub = SECTransformer.transform(year,quarter,\"sub\")\n",
    "            sec.store(\"nums\",num)\n",
    "            sec.store(\"subs\",sub)\n",
    "        except Exception as e:\n",
    "            print(year,quarter,str(e))\n",
    "sec.disconnect()"
   ]
  }
 ],
 "metadata": {
  "kernelspec": {
   "display_name": "Python 3",
   "language": "python",
   "name": "python3"
  },
  "language_info": {
   "codemirror_mode": {
    "name": "ipython",
    "version": 3
   },
   "file_extension": ".py",
   "mimetype": "text/x-python",
   "name": "python",
   "nbconvert_exporter": "python",
   "pygments_lexer": "ipython3",
   "version": "3.8.0"
  }
 },
 "nbformat": 4,
 "nbformat_minor": 4
}
