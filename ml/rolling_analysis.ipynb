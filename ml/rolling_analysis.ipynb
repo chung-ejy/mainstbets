{
 "cells": [
  {
   "cell_type": "code",
   "execution_count": 1,
   "id": "c1721119",
   "metadata": {},
   "outputs": [],
   "source": [
    "from database.mainstbets import MainStBets\n",
    "import pandas as pd\n",
    "from tqdm import tqdm\n",
    "from datetime import datetime,timedelta\n",
    "import matplotlib.pyplot as plt"
   ]
  },
  {
   "cell_type": "code",
   "execution_count": 2,
   "id": "6ab23182",
   "metadata": {},
   "outputs": [],
   "source": [
    "market = MainStBets()"
   ]
  },
  {
   "cell_type": "code",
   "execution_count": 3,
   "id": "14bda578",
   "metadata": {},
   "outputs": [],
   "source": [
    "market.connect()\n",
    "sp500 = market.retrieve(\"sp500\")\n",
    "prices = market.retrieve(\"prices\")\n",
    "market.disconnect()"
   ]
  },
  {
   "cell_type": "code",
   "execution_count": 4,
   "id": "1d1804ce",
   "metadata": {},
   "outputs": [
    {
     "data": {
      "text/plain": [
       "Index(['_id', 'Symbol', 'Security', 'SEC filings', 'GICS Sector',\n",
       "       'GICS Sub-Industry', 'Headquarters Location', 'Date first added', 'CIK',\n",
       "       'Founded'],\n",
       "      dtype='object')"
      ]
     },
     "execution_count": 4,
     "metadata": {},
     "output_type": "execute_result"
    }
   ],
   "source": [
    "sp500.columns"
   ]
  },
  {
   "cell_type": "code",
   "execution_count": 5,
   "id": "ac242801",
   "metadata": {},
   "outputs": [],
   "source": [
    "prices[\"date\"] = pd.to_datetime(prices[\"date\"])"
   ]
  },
  {
   "cell_type": "code",
   "execution_count": 6,
   "id": "69b3af4a",
   "metadata": {},
   "outputs": [
    {
     "data": {
      "text/plain": [
       "Index(['_id', 'date', 'close', 'high', 'low', 'open', 'volume', 'adjClose',\n",
       "       'adjHigh', 'adjLow', 'adjOpen', 'adjVolume', 'divCash', 'splitFactor',\n",
       "       'ticker'],\n",
       "      dtype='object')"
      ]
     },
     "execution_count": 6,
     "metadata": {},
     "output_type": "execute_result"
    }
   ],
   "source": [
    "prices.columns"
   ]
  },
  {
   "cell_type": "code",
   "execution_count": 7,
   "id": "9a825a14",
   "metadata": {},
   "outputs": [
    {
     "name": "stderr",
     "output_type": "stream",
     "text": [
      "  0%|                                                                                                                                                    | 0/505 [00:00<?, ?it/s]C:\\Users\\ericj\\AppData\\Local\\Temp/ipykernel_17020/1279899860.py:4: SettingWithCopyWarning: \n",
      "A value is trying to be set on a copy of a slice from a DataFrame.\n",
      "Try using .loc[row_indexer,col_indexer] = value instead\n",
      "\n",
      "See the caveats in the documentation: https://pandas.pydata.org/pandas-docs/stable/user_guide/indexing.html#returning-a-view-versus-a-copy\n",
      "  ticker_data[\"rolling\"] = ticker_data[\"adjClose\"].rolling(window=100).mean()\n",
      "C:\\Users\\ericj\\AppData\\Local\\Temp/ipykernel_17020/1279899860.py:5: SettingWithCopyWarning: \n",
      "A value is trying to be set on a copy of a slice from a DataFrame.\n",
      "Try using .loc[row_indexer,col_indexer] = value instead\n",
      "\n",
      "See the caveats in the documentation: https://pandas.pydata.org/pandas-docs/stable/user_guide/indexing.html#returning-a-view-versus-a-copy\n",
      "  ticker_data[\"gain\"] = (ticker_data[\"adjClose\"] - ticker_data[\"rolling\"]) / ticker_data[\"rolling\"]\n",
      "100%|██████████████████████████████████████████████████████████████████████████████████████████████████████████████████████████████████████████| 505/505 [00:33<00:00, 14.87it/s]\n"
     ]
    }
   ],
   "source": [
    "final = []\n",
    "for ticker in tqdm(sp500[\"Symbol\"]):\n",
    "    ticker_data = prices[prices[\"ticker\"]==ticker]\n",
    "    ticker_data[\"rolling\"] = ticker_data[\"adjClose\"].rolling(window=100).mean()\n",
    "    ticker_data[\"gain\"] = (ticker_data[\"adjClose\"] - ticker_data[\"rolling\"]) / ticker_data[\"rolling\"]\n",
    "    final.append(ticker_data)"
   ]
  },
  {
   "cell_type": "code",
   "execution_count": 8,
   "id": "b2158149",
   "metadata": {},
   "outputs": [],
   "source": [
    "sim = pd.concat(final)\n",
    "sim.dropna(inplace=True)"
   ]
  },
  {
   "cell_type": "code",
   "execution_count": 9,
   "id": "ae56b1f7",
   "metadata": {},
   "outputs": [],
   "source": [
    "sim[\"year\"] = [x.year for x in sim[\"date\"]]"
   ]
  },
  {
   "cell_type": "code",
   "execution_count": 10,
   "id": "757cb492",
   "metadata": {},
   "outputs": [],
   "source": [
    "today = sim[sim[\"date\"]==sim[\"date\"].max()][[\"date\",\"adjClose\",\"ticker\",\"gain\",\"rolling\"]].sort_values(\"gain\").merge(sp500[[\"Symbol\",\"Security\",\"GICS Sector\"]].rename(columns={\"Symbol\":\"ticker\"}),on=\"ticker\")"
   ]
  },
  {
   "cell_type": "code",
   "execution_count": 11,
   "id": "52118696",
   "metadata": {},
   "outputs": [],
   "source": [
    "recent = today[[\"date\",\"GICS Sector\",\"Security\",\"ticker\",\"rolling\",\"adjClose\",\"gain\"]]"
   ]
  },
  {
   "cell_type": "code",
   "execution_count": 12,
   "id": "99a23cb2",
   "metadata": {},
   "outputs": [
    {
     "data": {
      "text/html": [
       "<div>\n",
       "<style scoped>\n",
       "    .dataframe tbody tr th:only-of-type {\n",
       "        vertical-align: middle;\n",
       "    }\n",
       "\n",
       "    .dataframe tbody tr th {\n",
       "        vertical-align: top;\n",
       "    }\n",
       "\n",
       "    .dataframe thead th {\n",
       "        text-align: right;\n",
       "    }\n",
       "</style>\n",
       "<table border=\"1\" class=\"dataframe\">\n",
       "  <thead>\n",
       "    <tr style=\"text-align: right;\">\n",
       "      <th></th>\n",
       "      <th>date</th>\n",
       "      <th>GICS Sector</th>\n",
       "      <th>Security</th>\n",
       "      <th>ticker</th>\n",
       "      <th>rolling</th>\n",
       "      <th>adjClose</th>\n",
       "      <th>gain</th>\n",
       "    </tr>\n",
       "  </thead>\n",
       "  <tbody>\n",
       "    <tr>\n",
       "      <th>0</th>\n",
       "      <td>2021-08-25 00:00:00+00:00</td>\n",
       "      <td>Consumer Discretionary</td>\n",
       "      <td>Las Vegas Sands</td>\n",
       "      <td>LVS</td>\n",
       "      <td>52.503300</td>\n",
       "      <td>43.24</td>\n",
       "      <td>-0.176433</td>\n",
       "    </tr>\n",
       "    <tr>\n",
       "      <th>1</th>\n",
       "      <td>2021-08-25 00:00:00+00:00</td>\n",
       "      <td>Information Technology</td>\n",
       "      <td>IPG Photonics</td>\n",
       "      <td>IPGP</td>\n",
       "      <td>203.733900</td>\n",
       "      <td>172.15</td>\n",
       "      <td>-0.155025</td>\n",
       "    </tr>\n",
       "    <tr>\n",
       "      <th>2</th>\n",
       "      <td>2021-08-25 00:00:00+00:00</td>\n",
       "      <td>Materials</td>\n",
       "      <td>FMC Corporation</td>\n",
       "      <td>FMC</td>\n",
       "      <td>109.753948</td>\n",
       "      <td>92.90</td>\n",
       "      <td>-0.153561</td>\n",
       "    </tr>\n",
       "    <tr>\n",
       "      <th>3</th>\n",
       "      <td>2021-08-25 00:00:00+00:00</td>\n",
       "      <td>Information Technology</td>\n",
       "      <td>Global Payments</td>\n",
       "      <td>GPN</td>\n",
       "      <td>193.063822</td>\n",
       "      <td>165.25</td>\n",
       "      <td>-0.144065</td>\n",
       "    </tr>\n",
       "    <tr>\n",
       "      <th>4</th>\n",
       "      <td>2021-08-25 00:00:00+00:00</td>\n",
       "      <td>Consumer Discretionary</td>\n",
       "      <td>Wynn Resorts</td>\n",
       "      <td>WYNN</td>\n",
       "      <td>117.614100</td>\n",
       "      <td>100.84</td>\n",
       "      <td>-0.142620</td>\n",
       "    </tr>\n",
       "    <tr>\n",
       "      <th>...</th>\n",
       "      <td>...</td>\n",
       "      <td>...</td>\n",
       "      <td>...</td>\n",
       "      <td>...</td>\n",
       "      <td>...</td>\n",
       "      <td>...</td>\n",
       "      <td>...</td>\n",
       "    </tr>\n",
       "    <tr>\n",
       "      <th>490</th>\n",
       "      <td>2021-08-25 00:00:00+00:00</td>\n",
       "      <td>Information Technology</td>\n",
       "      <td>Monolithic Power Systems</td>\n",
       "      <td>MPWR</td>\n",
       "      <td>380.841215</td>\n",
       "      <td>483.27</td>\n",
       "      <td>0.268954</td>\n",
       "    </tr>\n",
       "    <tr>\n",
       "      <th>491</th>\n",
       "      <td>2021-08-25 00:00:00+00:00</td>\n",
       "      <td>Information Technology</td>\n",
       "      <td>Gartner</td>\n",
       "      <td>IT</td>\n",
       "      <td>241.636900</td>\n",
       "      <td>307.19</td>\n",
       "      <td>0.271288</td>\n",
       "    </tr>\n",
       "    <tr>\n",
       "      <th>492</th>\n",
       "      <td>2021-08-25 00:00:00+00:00</td>\n",
       "      <td>Information Technology</td>\n",
       "      <td>Fortinet</td>\n",
       "      <td>FTNT</td>\n",
       "      <td>239.566100</td>\n",
       "      <td>306.03</td>\n",
       "      <td>0.277434</td>\n",
       "    </tr>\n",
       "    <tr>\n",
       "      <th>493</th>\n",
       "      <td>2021-08-25 00:00:00+00:00</td>\n",
       "      <td>Information Technology</td>\n",
       "      <td>Paycom</td>\n",
       "      <td>PAYC</td>\n",
       "      <td>378.839800</td>\n",
       "      <td>484.13</td>\n",
       "      <td>0.277928</td>\n",
       "    </tr>\n",
       "    <tr>\n",
       "      <th>494</th>\n",
       "      <td>2021-08-25 00:00:00+00:00</td>\n",
       "      <td>Materials</td>\n",
       "      <td>Albemarle Corporation</td>\n",
       "      <td>ALB</td>\n",
       "      <td>177.495102</td>\n",
       "      <td>234.17</td>\n",
       "      <td>0.319304</td>\n",
       "    </tr>\n",
       "  </tbody>\n",
       "</table>\n",
       "<p>495 rows × 7 columns</p>\n",
       "</div>"
      ],
      "text/plain": [
       "                         date             GICS Sector  \\\n",
       "0   2021-08-25 00:00:00+00:00  Consumer Discretionary   \n",
       "1   2021-08-25 00:00:00+00:00  Information Technology   \n",
       "2   2021-08-25 00:00:00+00:00               Materials   \n",
       "3   2021-08-25 00:00:00+00:00  Information Technology   \n",
       "4   2021-08-25 00:00:00+00:00  Consumer Discretionary   \n",
       "..                        ...                     ...   \n",
       "490 2021-08-25 00:00:00+00:00  Information Technology   \n",
       "491 2021-08-25 00:00:00+00:00  Information Technology   \n",
       "492 2021-08-25 00:00:00+00:00  Information Technology   \n",
       "493 2021-08-25 00:00:00+00:00  Information Technology   \n",
       "494 2021-08-25 00:00:00+00:00               Materials   \n",
       "\n",
       "                     Security ticker     rolling  adjClose      gain  \n",
       "0             Las Vegas Sands    LVS   52.503300     43.24 -0.176433  \n",
       "1               IPG Photonics   IPGP  203.733900    172.15 -0.155025  \n",
       "2             FMC Corporation    FMC  109.753948     92.90 -0.153561  \n",
       "3             Global Payments    GPN  193.063822    165.25 -0.144065  \n",
       "4                Wynn Resorts   WYNN  117.614100    100.84 -0.142620  \n",
       "..                        ...    ...         ...       ...       ...  \n",
       "490  Monolithic Power Systems   MPWR  380.841215    483.27  0.268954  \n",
       "491                   Gartner     IT  241.636900    307.19  0.271288  \n",
       "492                  Fortinet   FTNT  239.566100    306.03  0.277434  \n",
       "493                    Paycom   PAYC  378.839800    484.13  0.277928  \n",
       "494     Albemarle Corporation    ALB  177.495102    234.17  0.319304  \n",
       "\n",
       "[495 rows x 7 columns]"
      ]
     },
     "execution_count": 12,
     "metadata": {},
     "output_type": "execute_result"
    }
   ],
   "source": [
    "recent"
   ]
  },
  {
   "cell_type": "code",
   "execution_count": 13,
   "id": "b65c0be5",
   "metadata": {},
   "outputs": [],
   "source": [
    "full = sim[[\"date\",\"adjClose\",\"ticker\",\"gain\",\"rolling\"]].merge(sp500[[\"Symbol\",\"Security\",\"GICS Sector\"]].rename(columns={\"Symbol\":\"ticker\"}),on=\"ticker\")[[\"date\",\"GICS Sector\",\"Security\",\"ticker\",\"rolling\",\"adjClose\",\"gain\"]]"
   ]
  },
  {
   "cell_type": "code",
   "execution_count": 18,
   "id": "7b73db46",
   "metadata": {},
   "outputs": [
    {
     "data": {
      "text/plain": [
       "495"
      ]
     },
     "execution_count": 18,
     "metadata": {},
     "output_type": "execute_result"
    }
   ],
   "source": [
    "recent.index.size"
   ]
  },
  {
   "cell_type": "code",
   "execution_count": 17,
   "id": "e6f8c930",
   "metadata": {},
   "outputs": [],
   "source": [
    "market.connect()\n",
    "market.store(\"full\",full)\n",
    "market.store(\"recent\",recent)\n",
    "market.disconnect()"
   ]
  }
 ],
 "metadata": {
  "kernelspec": {
   "display_name": "Python 3 (ipykernel)",
   "language": "python",
   "name": "python3"
  },
  "language_info": {
   "codemirror_mode": {
    "name": "ipython",
    "version": 3
   },
   "file_extension": ".py",
   "mimetype": "text/x-python",
   "name": "python",
   "nbconvert_exporter": "python",
   "pygments_lexer": "ipython3",
   "version": "3.9.6"
  }
 },
 "nbformat": 4,
 "nbformat_minor": 5
}
