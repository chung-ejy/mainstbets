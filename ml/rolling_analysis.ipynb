{
 "cells": [
  {
   "cell_type": "code",
   "execution_count": 1,
   "id": "c1721119",
   "metadata": {},
   "outputs": [],
   "source": [
    "from database.mainstbets import MainStBets\n",
    "import pandas as pd\n",
    "from tqdm import tqdm\n",
    "from datetime import datetime,timedelta\n",
    "import matplotlib.pyplot as plt"
   ]
  },
  {
   "cell_type": "code",
   "execution_count": 16,
   "id": "6ab23182",
   "metadata": {},
   "outputs": [],
   "source": [
    "market = MainStBets()"
   ]
  },
  {
   "cell_type": "code",
   "execution_count": 17,
   "id": "14bda578",
   "metadata": {},
   "outputs": [],
   "source": [
    "market.connect()\n",
    "sp500 = market.retrieve(\"sp500\")\n",
    "prices = market.retrieve(\"prices\")\n",
    "market.disconnect()"
   ]
  },
  {
   "cell_type": "code",
   "execution_count": 18,
   "id": "1d1804ce",
   "metadata": {},
   "outputs": [
    {
     "data": {
      "text/plain": [
       "Index(['_id', 'Symbol', 'Security', 'SEC filings', 'GICS Sector',\n",
       "       'GICS Sub-Industry', 'Headquarters Location', 'Date first added', 'CIK',\n",
       "       'Founded'],\n",
       "      dtype='object')"
      ]
     },
     "execution_count": 18,
     "metadata": {},
     "output_type": "execute_result"
    }
   ],
   "source": [
    "sp500.columns"
   ]
  },
  {
   "cell_type": "code",
   "execution_count": 19,
   "id": "ac242801",
   "metadata": {},
   "outputs": [],
   "source": [
    "prices[\"date\"] = pd.to_datetime(prices[\"date\"])"
   ]
  },
  {
   "cell_type": "code",
   "execution_count": 20,
   "id": "69b3af4a",
   "metadata": {},
   "outputs": [
    {
     "data": {
      "text/plain": [
       "Index(['_id', 'date', 'close', 'high', 'low', 'open', 'volume', 'adjClose',\n",
       "       'adjHigh', 'adjLow', 'adjOpen', 'adjVolume', 'divCash', 'splitFactor',\n",
       "       'ticker'],\n",
       "      dtype='object')"
      ]
     },
     "execution_count": 20,
     "metadata": {},
     "output_type": "execute_result"
    }
   ],
   "source": [
    "prices.columns"
   ]
  },
  {
   "cell_type": "code",
   "execution_count": 21,
   "id": "9a825a14",
   "metadata": {},
   "outputs": [
    {
     "name": "stderr",
     "output_type": "stream",
     "text": [
      "  0%|                                                                                         | 0/505 [00:00<?, ?it/s]C:\\Users\\ericj\\AppData\\Local\\Temp/ipykernel_12052/1279899860.py:4: SettingWithCopyWarning: \n",
      "A value is trying to be set on a copy of a slice from a DataFrame.\n",
      "Try using .loc[row_indexer,col_indexer] = value instead\n",
      "\n",
      "See the caveats in the documentation: https://pandas.pydata.org/pandas-docs/stable/user_guide/indexing.html#returning-a-view-versus-a-copy\n",
      "  ticker_data[\"rolling\"] = ticker_data[\"adjClose\"].rolling(window=100).mean()\n",
      "C:\\Users\\ericj\\AppData\\Local\\Temp/ipykernel_12052/1279899860.py:5: SettingWithCopyWarning: \n",
      "A value is trying to be set on a copy of a slice from a DataFrame.\n",
      "Try using .loc[row_indexer,col_indexer] = value instead\n",
      "\n",
      "See the caveats in the documentation: https://pandas.pydata.org/pandas-docs/stable/user_guide/indexing.html#returning-a-view-versus-a-copy\n",
      "  ticker_data[\"gain\"] = (ticker_data[\"adjClose\"] - ticker_data[\"rolling\"]) / ticker_data[\"rolling\"]\n",
      "100%|██████████████████████████████████████████████████████████████████████████████| 505/505 [00:00<00:00, 882.67it/s]\n"
     ]
    }
   ],
   "source": [
    "final = []\n",
    "for ticker in tqdm(sp500[\"Symbol\"]):\n",
    "    ticker_data = prices[prices[\"ticker\"]==ticker]\n",
    "    ticker_data[\"rolling\"] = ticker_data[\"adjClose\"].rolling(window=100).mean()\n",
    "    ticker_data[\"gain\"] = (ticker_data[\"adjClose\"] - ticker_data[\"rolling\"]) / ticker_data[\"rolling\"]\n",
    "    final.append(ticker_data)"
   ]
  },
  {
   "cell_type": "code",
   "execution_count": 8,
   "id": "b2158149",
   "metadata": {},
   "outputs": [],
   "source": [
    "sim = pd.concat(final)\n",
    "sim.dropna(inplace=True)"
   ]
  },
  {
   "cell_type": "code",
   "execution_count": 9,
   "id": "ae56b1f7",
   "metadata": {},
   "outputs": [],
   "source": [
    "sim[\"year\"] = [x.year for x in sim[\"date\"]]"
   ]
  },
  {
   "cell_type": "code",
   "execution_count": 10,
   "id": "757cb492",
   "metadata": {},
   "outputs": [],
   "source": [
    "today = sim[sim[\"date\"]==sim[\"date\"].max()][[\"date\",\"adjClose\",\"ticker\",\"gain\",\"rolling\"]].sort_values(\"gain\").merge(sp500[[\"Symbol\",\"Security\",\"GICS Sector\"]].rename(columns={\"Symbol\":\"ticker\"}),on=\"ticker\")"
   ]
  },
  {
   "cell_type": "code",
   "execution_count": 11,
   "id": "52118696",
   "metadata": {},
   "outputs": [],
   "source": [
    "recent = today[[\"date\",\"GICS Sector\",\"Security\",\"ticker\",\"rolling\",\"adjClose\",\"gain\"]]"
   ]
  },
  {
   "cell_type": "code",
   "execution_count": 12,
   "id": "99a23cb2",
   "metadata": {},
   "outputs": [
    {
     "data": {
      "text/html": [
       "<div>\n",
       "<style scoped>\n",
       "    .dataframe tbody tr th:only-of-type {\n",
       "        vertical-align: middle;\n",
       "    }\n",
       "\n",
       "    .dataframe tbody tr th {\n",
       "        vertical-align: top;\n",
       "    }\n",
       "\n",
       "    .dataframe thead th {\n",
       "        text-align: right;\n",
       "    }\n",
       "</style>\n",
       "<table border=\"1\" class=\"dataframe\">\n",
       "  <thead>\n",
       "    <tr style=\"text-align: right;\">\n",
       "      <th></th>\n",
       "      <th>date</th>\n",
       "      <th>GICS Sector</th>\n",
       "      <th>Security</th>\n",
       "      <th>ticker</th>\n",
       "      <th>rolling</th>\n",
       "      <th>adjClose</th>\n",
       "      <th>gain</th>\n",
       "    </tr>\n",
       "  </thead>\n",
       "  <tbody>\n",
       "  </tbody>\n",
       "</table>\n",
       "</div>"
      ],
      "text/plain": [
       "Empty DataFrame\n",
       "Columns: [date, GICS Sector, Security, ticker, rolling, adjClose, gain]\n",
       "Index: []"
      ]
     },
     "execution_count": 12,
     "metadata": {},
     "output_type": "execute_result"
    }
   ],
   "source": [
    "recent"
   ]
  },
  {
   "cell_type": "code",
   "execution_count": 13,
   "id": "b65c0be5",
   "metadata": {},
   "outputs": [],
   "source": [
    "full = sim[[\"date\",\"adjClose\",\"ticker\",\"gain\",\"rolling\"]].merge(sp500[[\"Symbol\",\"Security\",\"GICS Sector\"]].rename(columns={\"Symbol\":\"ticker\"}),on=\"ticker\")[[\"date\",\"GICS Sector\",\"Security\",\"ticker\",\"rolling\",\"adjClose\",\"gain\"]]"
   ]
  },
  {
   "cell_type": "code",
   "execution_count": 14,
   "id": "7b73db46",
   "metadata": {},
   "outputs": [
    {
     "data": {
      "text/plain": [
       "0"
      ]
     },
     "execution_count": 14,
     "metadata": {},
     "output_type": "execute_result"
    }
   ],
   "source": [
    "recent.index.size"
   ]
  },
  {
   "cell_type": "code",
   "execution_count": 15,
   "id": "e6f8c930",
   "metadata": {},
   "outputs": [
    {
     "name": "stdout",
     "output_type": "stream",
     "text": [
      "mainstbets full documents must be a non-empty list\n",
      "mainstbets recent documents must be a non-empty list\n"
     ]
    }
   ],
   "source": [
    "market.connect()\n",
    "market.store(\"full\",full)\n",
    "market.store(\"recent\",recent)\n",
    "market.disconnect()"
   ]
  }
 ],
 "metadata": {
  "kernelspec": {
   "display_name": "Python 3 (ipykernel)",
   "language": "python",
   "name": "python3"
  },
  "language_info": {
   "codemirror_mode": {
    "name": "ipython",
    "version": 3
   },
   "file_extension": ".py",
   "mimetype": "text/x-python",
   "name": "python",
   "nbconvert_exporter": "python",
   "pygments_lexer": "ipython3",
   "version": "3.9.6"
  }
 },
 "nbformat": 4,
 "nbformat_minor": 5
}
