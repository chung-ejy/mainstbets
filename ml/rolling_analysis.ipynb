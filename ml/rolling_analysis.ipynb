{
 "cells": [
  {
   "cell_type": "code",
   "execution_count": 1,
   "id": "c1721119",
   "metadata": {},
   "outputs": [],
   "source": [
    "from database.mainstbets import MainStBets\n",
    "import pandas as pd\n",
    "from tqdm import tqdm\n",
    "from datetime import datetime,timedelta\n",
    "import matplotlib.pyplot as plt"
   ]
  },
  {
   "cell_type": "code",
   "execution_count": 2,
   "id": "6ab23182",
   "metadata": {},
   "outputs": [],
   "source": [
    "market = MainStBets()"
   ]
  },
  {
   "cell_type": "code",
   "execution_count": 3,
   "id": "14bda578",
   "metadata": {},
   "outputs": [],
   "source": [
    "market.connect()\n",
    "sp500 = market.retrieve(\"sp500\")\n",
    "prices = market.retrieve(\"prices\")\n",
    "market.disconnect()"
   ]
  },
  {
   "cell_type": "code",
   "execution_count": 4,
   "id": "1d1804ce",
   "metadata": {},
   "outputs": [
    {
     "data": {
      "text/plain": [
       "Index(['_id', 'Symbol', 'Security', 'SEC filings', 'GICS Sector',\n",
       "       'GICS Sub-Industry', 'Headquarters Location', 'Date first added', 'CIK',\n",
       "       'Founded'],\n",
       "      dtype='object')"
      ]
     },
     "execution_count": 4,
     "metadata": {},
     "output_type": "execute_result"
    }
   ],
   "source": [
    "sp500.columns"
   ]
  },
  {
   "cell_type": "code",
   "execution_count": 5,
   "id": "ac242801",
   "metadata": {},
   "outputs": [],
   "source": [
    "prices[\"date\"] = pd.to_datetime(prices[\"date\"])"
   ]
  },
  {
   "cell_type": "code",
   "execution_count": 6,
   "id": "69b3af4a",
   "metadata": {},
   "outputs": [
    {
     "data": {
      "text/plain": [
       "Index(['_id', 'date', 'close', 'high', 'low', 'open', 'volume', 'adjClose',\n",
       "       'adjHigh', 'adjLow', 'adjOpen', 'adjVolume', 'divCash', 'splitFactor',\n",
       "       'ticker'],\n",
       "      dtype='object')"
      ]
     },
     "execution_count": 6,
     "metadata": {},
     "output_type": "execute_result"
    }
   ],
   "source": [
    "prices.columns"
   ]
  },
  {
   "cell_type": "code",
   "execution_count": 7,
   "id": "9a825a14",
   "metadata": {},
   "outputs": [
    {
     "name": "stderr",
     "output_type": "stream",
     "text": [
      "  0%|                                                                                         | 0/505 [00:00<?, ?it/s]C:\\Users\\ericj\\AppData\\Local\\Temp/ipykernel_13756/1279899860.py:4: SettingWithCopyWarning: \n",
      "A value is trying to be set on a copy of a slice from a DataFrame.\n",
      "Try using .loc[row_indexer,col_indexer] = value instead\n",
      "\n",
      "See the caveats in the documentation: https://pandas.pydata.org/pandas-docs/stable/user_guide/indexing.html#returning-a-view-versus-a-copy\n",
      "  ticker_data[\"rolling\"] = ticker_data[\"adjClose\"].rolling(window=100).mean()\n",
      "C:\\Users\\ericj\\AppData\\Local\\Temp/ipykernel_13756/1279899860.py:5: SettingWithCopyWarning: \n",
      "A value is trying to be set on a copy of a slice from a DataFrame.\n",
      "Try using .loc[row_indexer,col_indexer] = value instead\n",
      "\n",
      "See the caveats in the documentation: https://pandas.pydata.org/pandas-docs/stable/user_guide/indexing.html#returning-a-view-versus-a-copy\n",
      "  ticker_data[\"gain\"] = (ticker_data[\"adjClose\"] - ticker_data[\"rolling\"]) / ticker_data[\"rolling\"]\n",
      "100%|███████████████████████████████████████████████████████████████████████████████| 505/505 [00:40<00:00, 12.39it/s]\n"
     ]
    }
   ],
   "source": [
    "final = []\n",
    "for ticker in tqdm(sp500[\"Symbol\"]):\n",
    "    ticker_data = prices[prices[\"ticker\"]==ticker]\n",
    "    ticker_data[\"rolling\"] = ticker_data[\"adjClose\"].rolling(window=100).mean()\n",
    "    ticker_data[\"gain\"] = (ticker_data[\"adjClose\"] - ticker_data[\"rolling\"]) / ticker_data[\"rolling\"]\n",
    "    final.append(ticker_data)"
   ]
  },
  {
   "cell_type": "code",
   "execution_count": 8,
   "id": "b2158149",
   "metadata": {},
   "outputs": [],
   "source": [
    "sim = pd.concat(final)\n",
    "sim.dropna(inplace=True)"
   ]
  },
  {
   "cell_type": "code",
   "execution_count": 9,
   "id": "ae56b1f7",
   "metadata": {},
   "outputs": [],
   "source": [
    "sim[\"year\"] = [x.year for x in sim[\"date\"]]"
   ]
  },
  {
   "cell_type": "code",
   "execution_count": 10,
   "id": "757cb492",
   "metadata": {},
   "outputs": [],
   "source": [
    "today = sim[sim[\"date\"]==sim[\"date\"].max()][[\"date\",\"adjClose\",\"ticker\",\"gain\",\"rolling\"]].sort_values(\"gain\").merge(sp500[[\"Symbol\",\"Security\",\"GICS Sector\"]].rename(columns={\"Symbol\":\"ticker\"}),on=\"ticker\")"
   ]
  },
  {
   "cell_type": "code",
   "execution_count": 11,
   "id": "52118696",
   "metadata": {},
   "outputs": [],
   "source": [
    "recent = today[[\"date\",\"GICS Sector\",\"Security\",\"ticker\",\"rolling\",\"adjClose\",\"gain\"]]"
   ]
  },
  {
   "cell_type": "code",
   "execution_count": 12,
   "id": "99a23cb2",
   "metadata": {},
   "outputs": [
    {
     "data": {
      "text/html": [
       "<div>\n",
       "<style scoped>\n",
       "    .dataframe tbody tr th:only-of-type {\n",
       "        vertical-align: middle;\n",
       "    }\n",
       "\n",
       "    .dataframe tbody tr th {\n",
       "        vertical-align: top;\n",
       "    }\n",
       "\n",
       "    .dataframe thead th {\n",
       "        text-align: right;\n",
       "    }\n",
       "</style>\n",
       "<table border=\"1\" class=\"dataframe\">\n",
       "  <thead>\n",
       "    <tr style=\"text-align: right;\">\n",
       "      <th></th>\n",
       "      <th>date</th>\n",
       "      <th>GICS Sector</th>\n",
       "      <th>Security</th>\n",
       "      <th>ticker</th>\n",
       "      <th>rolling</th>\n",
       "      <th>adjClose</th>\n",
       "      <th>gain</th>\n",
       "    </tr>\n",
       "  </thead>\n",
       "  <tbody>\n",
       "    <tr>\n",
       "      <th>0</th>\n",
       "      <td>2021-08-27 00:00:00+00:00</td>\n",
       "      <td>Consumer Discretionary</td>\n",
       "      <td>Gap</td>\n",
       "      <td>GPS</td>\n",
       "      <td>31.538519</td>\n",
       "      <td>26.51</td>\n",
       "      <td>-0.159441</td>\n",
       "    </tr>\n",
       "    <tr>\n",
       "      <th>1</th>\n",
       "      <td>2021-08-27 00:00:00+00:00</td>\n",
       "      <td>Consumer Discretionary</td>\n",
       "      <td>Las Vegas Sands</td>\n",
       "      <td>LVS</td>\n",
       "      <td>52.115200</td>\n",
       "      <td>43.91</td>\n",
       "      <td>-0.157444</td>\n",
       "    </tr>\n",
       "    <tr>\n",
       "      <th>2</th>\n",
       "      <td>2021-08-27 00:00:00+00:00</td>\n",
       "      <td>Information Technology</td>\n",
       "      <td>IPG Photonics</td>\n",
       "      <td>IPGP</td>\n",
       "      <td>202.699900</td>\n",
       "      <td>172.43</td>\n",
       "      <td>-0.149334</td>\n",
       "    </tr>\n",
       "    <tr>\n",
       "      <th>3</th>\n",
       "      <td>2021-08-27 00:00:00+00:00</td>\n",
       "      <td>Materials</td>\n",
       "      <td>FMC Corporation</td>\n",
       "      <td>FMC</td>\n",
       "      <td>109.386882</td>\n",
       "      <td>93.07</td>\n",
       "      <td>-0.149167</td>\n",
       "    </tr>\n",
       "    <tr>\n",
       "      <th>4</th>\n",
       "      <td>2021-08-27 00:00:00+00:00</td>\n",
       "      <td>Information Technology</td>\n",
       "      <td>Global Payments</td>\n",
       "      <td>GPN</td>\n",
       "      <td>192.146970</td>\n",
       "      <td>164.14</td>\n",
       "      <td>-0.145758</td>\n",
       "    </tr>\n",
       "    <tr>\n",
       "      <th>...</th>\n",
       "      <td>...</td>\n",
       "      <td>...</td>\n",
       "      <td>...</td>\n",
       "      <td>...</td>\n",
       "      <td>...</td>\n",
       "      <td>...</td>\n",
       "      <td>...</td>\n",
       "    </tr>\n",
       "    <tr>\n",
       "      <th>489</th>\n",
       "      <td>2021-08-27 00:00:00+00:00</td>\n",
       "      <td>Information Technology</td>\n",
       "      <td>Paycom</td>\n",
       "      <td>PAYC</td>\n",
       "      <td>380.998500</td>\n",
       "      <td>484.70</td>\n",
       "      <td>0.272183</td>\n",
       "    </tr>\n",
       "    <tr>\n",
       "      <th>490</th>\n",
       "      <td>2021-08-27 00:00:00+00:00</td>\n",
       "      <td>Information Technology</td>\n",
       "      <td>Nvidia</td>\n",
       "      <td>NVDA</td>\n",
       "      <td>177.700390</td>\n",
       "      <td>226.36</td>\n",
       "      <td>0.273830</td>\n",
       "    </tr>\n",
       "    <tr>\n",
       "      <th>491</th>\n",
       "      <td>2021-08-27 00:00:00+00:00</td>\n",
       "      <td>Information Technology</td>\n",
       "      <td>Monolithic Power Systems</td>\n",
       "      <td>MPWR</td>\n",
       "      <td>383.198283</td>\n",
       "      <td>494.96</td>\n",
       "      <td>0.291655</td>\n",
       "    </tr>\n",
       "    <tr>\n",
       "      <th>492</th>\n",
       "      <td>2021-08-27 00:00:00+00:00</td>\n",
       "      <td>Information Technology</td>\n",
       "      <td>Fortinet</td>\n",
       "      <td>FTNT</td>\n",
       "      <td>241.952900</td>\n",
       "      <td>316.06</td>\n",
       "      <td>0.306287</td>\n",
       "    </tr>\n",
       "    <tr>\n",
       "      <th>493</th>\n",
       "      <td>2021-08-27 00:00:00+00:00</td>\n",
       "      <td>Materials</td>\n",
       "      <td>Albemarle Corporation</td>\n",
       "      <td>ALB</td>\n",
       "      <td>179.209580</td>\n",
       "      <td>236.65</td>\n",
       "      <td>0.320521</td>\n",
       "    </tr>\n",
       "  </tbody>\n",
       "</table>\n",
       "<p>494 rows × 7 columns</p>\n",
       "</div>"
      ],
      "text/plain": [
       "                         date             GICS Sector  \\\n",
       "0   2021-08-27 00:00:00+00:00  Consumer Discretionary   \n",
       "1   2021-08-27 00:00:00+00:00  Consumer Discretionary   \n",
       "2   2021-08-27 00:00:00+00:00  Information Technology   \n",
       "3   2021-08-27 00:00:00+00:00               Materials   \n",
       "4   2021-08-27 00:00:00+00:00  Information Technology   \n",
       "..                        ...                     ...   \n",
       "489 2021-08-27 00:00:00+00:00  Information Technology   \n",
       "490 2021-08-27 00:00:00+00:00  Information Technology   \n",
       "491 2021-08-27 00:00:00+00:00  Information Technology   \n",
       "492 2021-08-27 00:00:00+00:00  Information Technology   \n",
       "493 2021-08-27 00:00:00+00:00               Materials   \n",
       "\n",
       "                     Security ticker     rolling  adjClose      gain  \n",
       "0                         Gap    GPS   31.538519     26.51 -0.159441  \n",
       "1             Las Vegas Sands    LVS   52.115200     43.91 -0.157444  \n",
       "2               IPG Photonics   IPGP  202.699900    172.43 -0.149334  \n",
       "3             FMC Corporation    FMC  109.386882     93.07 -0.149167  \n",
       "4             Global Payments    GPN  192.146970    164.14 -0.145758  \n",
       "..                        ...    ...         ...       ...       ...  \n",
       "489                    Paycom   PAYC  380.998500    484.70  0.272183  \n",
       "490                    Nvidia   NVDA  177.700390    226.36  0.273830  \n",
       "491  Monolithic Power Systems   MPWR  383.198283    494.96  0.291655  \n",
       "492                  Fortinet   FTNT  241.952900    316.06  0.306287  \n",
       "493     Albemarle Corporation    ALB  179.209580    236.65  0.320521  \n",
       "\n",
       "[494 rows x 7 columns]"
      ]
     },
     "execution_count": 12,
     "metadata": {},
     "output_type": "execute_result"
    }
   ],
   "source": [
    "recent"
   ]
  },
  {
   "cell_type": "code",
   "execution_count": 13,
   "id": "b65c0be5",
   "metadata": {},
   "outputs": [],
   "source": [
    "full = sim[[\"date\",\"adjClose\",\"ticker\",\"gain\",\"rolling\"]].merge(sp500[[\"Symbol\",\"Security\",\"GICS Sector\"]].rename(columns={\"Symbol\":\"ticker\"}),on=\"ticker\")[[\"date\",\"GICS Sector\",\"Security\",\"ticker\",\"rolling\",\"adjClose\",\"gain\"]]"
   ]
  },
  {
   "cell_type": "code",
   "execution_count": 14,
   "id": "7b73db46",
   "metadata": {},
   "outputs": [
    {
     "data": {
      "text/plain": [
       "494"
      ]
     },
     "execution_count": 14,
     "metadata": {},
     "output_type": "execute_result"
    }
   ],
   "source": [
    "recent.index.size"
   ]
  },
  {
   "cell_type": "code",
   "execution_count": null,
   "id": "e6f8c930",
   "metadata": {},
   "outputs": [],
   "source": [
    "market.connect()\n",
    "market.store(\"full\",full)\n",
    "market.store(\"recent\",recent)\n",
    "market.disconnect()"
   ]
  }
 ],
 "metadata": {
  "kernelspec": {
   "display_name": "Python 3 (ipykernel)",
   "language": "python",
   "name": "python3"
  },
  "language_info": {
   "codemirror_mode": {
    "name": "ipython",
    "version": 3
   },
   "file_extension": ".py",
   "mimetype": "text/x-python",
   "name": "python",
   "nbconvert_exporter": "python",
   "pygments_lexer": "ipython3",
   "version": "3.9.6"
  }
 },
 "nbformat": 4,
 "nbformat_minor": 5
}
