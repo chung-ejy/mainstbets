{
 "cells": [
  {
   "cell_type": "code",
   "execution_count": 1,
   "metadata": {},
   "outputs": [],
   "source": [
    "from time import sleep\n",
    "from zipfile import ZipFile\n",
    "from urllib.request import urlretrieve\n",
    "from tqdm import tqdm"
   ]
  },
  {
   "cell_type": "code",
   "execution_count": null,
   "metadata": {},
   "outputs": [
    {
     "name": "stderr",
     "output_type": "stream",
     "text": [
      " 62%|████████████████████████████████████▉                       | 8/13 [06:40<04:22, 52.55s/it]"
     ]
    }
   ],
   "source": [
    "base_url = \"https://www.sec.gov/files/dera/data/financial-statement-data-sets\"\n",
    "for year in tqdm(range(2009,2022)):\n",
    "    for quarter in range(1,5):\n",
    "        try:\n",
    "            url = f'{base_url}/{year}q{quarter}.zip'\n",
    "            urlretrieve(url,f\"./sec/{year}q{quarter}.zip\")\n",
    "            with ZipFile(f\"./sec/{year}q{quarter}.zip\",\"r\") as zip_ref:\n",
    "                zip_ref.extractall(f\"./sec/{year}q{quarter}\")\n",
    "        except Exception as e:\n",
    "            print(str(e))      \n",
    "        sleep(10)"
   ]
  }
 ],
 "metadata": {
  "kernelspec": {
   "display_name": "Python 3 (ipykernel)",
   "language": "python",
   "name": "python3"
  },
  "language_info": {
   "codemirror_mode": {
    "name": "ipython",
    "version": 3
   },
   "file_extension": ".py",
   "mimetype": "text/x-python",
   "name": "python",
   "nbconvert_exporter": "python",
   "pygments_lexer": "ipython3",
   "version": "3.9.6"
  }
 },
 "nbformat": 4,
 "nbformat_minor": 4
}
